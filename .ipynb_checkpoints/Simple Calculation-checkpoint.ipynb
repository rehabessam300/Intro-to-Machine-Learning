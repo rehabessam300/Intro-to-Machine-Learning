{
 "cells": [
  {
   "cell_type": "code",
   "execution_count": 6,
   "id": "8662871d",
   "metadata": {},
   "outputs": [
    {
     "name": "stdout",
     "output_type": "stream",
     "text": [
      "Plz Enter 1st Number : 20\n",
      "Plz Enter 2nd Number : 5\n",
      "Sum : 15.0\n",
      "SUB : 5.0\n",
      "MUL : 50.0\n"
     ]
    }
   ],
   "source": [
    "#Read 1st Number\n",
    "\n",
    "Num1 = input (\"Plz Enter 1st Number : \")\n",
    "\n",
    "#Read 2nd Number\n",
    "\n",
    "Num2 = input (\"Plz Enter 2nd Number : \")\n",
    "\n",
    "#Convert Number to Float\n",
    "\n",
    "Num1 = float (Num1)\n",
    "Num2 = float (Num2)\n",
    "\n",
    "#Print Sum\n",
    "\n",
    "print(\"Sum :\" , Num1 + Num2 )\n",
    "\n",
    "#Print SUB\n",
    "\n",
    "print(\"SUB :\" , Num1 - Num2 )\n",
    "\n",
    "\n",
    "#Print MUL \n",
    "\n",
    "print(\"MUL :\" , Num1 * Num2 )"
   ]
  }
 ],
 "metadata": {
  "kernelspec": {
   "display_name": "Python 3 (ipykernel)",
   "language": "python",
   "name": "python3"
  },
  "language_info": {
   "codemirror_mode": {
    "name": "ipython",
    "version": 3
   },
   "file_extension": ".py",
   "mimetype": "text/x-python",
   "name": "python",
   "nbconvert_exporter": "python",
   "pygments_lexer": "ipython3",
   "version": "3.8.12"
  }
 },
 "nbformat": 4,
 "nbformat_minor": 5
}
